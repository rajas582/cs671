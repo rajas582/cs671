{
 "cells": [
  {
   "cell_type": "code",
   "execution_count": 61,
   "metadata": {
    "_cell_guid": "b1076dfc-b9ad-4769-8c92-a6c4dae69d19",
    "_uuid": "8f2839f25d086af736a60e9eeb907d3b93b6e0e5",
    "execution": {
     "iopub.execute_input": "2021-12-11T00:22:05.875028Z",
     "iopub.status.busy": "2021-12-11T00:22:05.874718Z",
     "iopub.status.idle": "2021-12-11T00:22:05.891266Z",
     "shell.execute_reply": "2021-12-11T00:22:05.890113Z",
     "shell.execute_reply.started": "2021-12-11T00:22:05.874995Z"
    }
   },
   "outputs": [],
   "source": [
    "# This Python 3 environment comes with many helpful analytics libraries installed\n",
    "# It is defined by the kaggle/python Docker image: https://github.com/kaggle/docker-python\n",
    "# For example, here's several helpful packages to load\n",
    "\n",
    "import numpy as np # linear algebra\n",
    "import pandas as pd # data processing, CSV file I/O (e.g. pd.read_csv)\n",
    "\n",
    "# Input data files are available in the read-only \"../input/\" directory\n",
    "# For example, running this (by clicking run or pressing Shift+Enter) will list all files under the input directory\n",
    "\n",
    "import os# This Python 3 environment comes with many helpful analytics libraries installed\n",
    "# It is defined by the kaggle/python Docker image: https://github.com/kaggle/docker-python\n",
    "# For example, here's several helpful packages to load\n",
    "\n",
    "import numpy as np # linear algebra\n",
    "import pandas as pd # data processing, CSV file I/O (e.g. pd.read_csv)\n",
    "import missingno as msno\n",
    "import seaborn as sns\n",
    "from sklearn.preprocessing import LabelEncoder\n",
    "from sklearn.preprocessing import OneHotEncoder\n",
    "from sklearn.linear_model import LinearRegression, LogisticRegressionCV\n",
    "from sklearn.linear_model import Ridge\n",
    "from sklearn.model_selection import train_test_split\n",
    "from sklearn.ensemble import RandomForestClassifier\n",
    "from sklearn.pipeline import make_pipeline\n",
    "from sklearn.preprocessing import StandardScaler\n",
    "from sklearn.svm import SVC\n",
    "from sklearn.model_selection import StratifiedKFold\n",
    "from sklearn import metrics\n",
    "from sklearn.model_selection import GridSearchCV\n",
    "from sklearn.ensemble import BaggingClassifier\n",
    "from sklearn.ensemble import StackingClassifier,VotingClassifier\n",
    "from sklearn.metrics import RocCurveDisplay, ConfusionMatrixDisplay\n",
    "from matplotlib.colors import Normalize\n",
    "from matplotlib import cm\n",
    "\n",
    "\n",
    "import matplotlib.pyplot as plt\n",
    "\n",
    "# Input data files are available in the read-only \"../input/\" directory\n",
    "# For example, running this (by clicking run or pressing Shift+Enter) will list all files under the input directory\n",
    "\n",
    "# You can write up to 20GB to the current directory (/kaggle/working/) that gets preserved as output when you create a version using \"Save & Run All\" \n",
    "# You can also write temporary files to /kaggle/temp/, but they won't be saved outside of the current session\n",
    "for dirname, _, filenames in os.walk('/kaggle/input'):\n",
    "    for filename in filenames:\n",
    "        print(os.path.join(dirname, filename))\n",
    "\n",
    "# You can write up to 20GB to the current directory (/kaggle/working/) that gets preserved as output when you create a version using \"Save & Run All\" \n",
    "# You can also write temporary files to /kaggle/temp/, but they won't be saved outside of the current session"
   ]
  },
  {
   "cell_type": "code",
   "execution_count": 2,
   "metadata": {
    "execution": {
     "iopub.execute_input": "2021-12-11T00:11:34.619827Z",
     "iopub.status.busy": "2021-12-11T00:11:34.619597Z",
     "iopub.status.idle": "2021-12-11T00:11:34.635497Z",
     "shell.execute_reply": "2021-12-11T00:11:34.634561Z",
     "shell.execute_reply.started": "2021-12-11T00:11:34.619800Z"
    }
   },
   "outputs": [],
   "source": [
    "def preprocessing(data):\n",
    "    le = LabelEncoder()\n",
    "    \n",
    "    ## Host response time\n",
    "    ### Fill NA with blank\n",
    "    ### Label encode them - NA is 0\n",
    "    data['Host_response_time'] = data['Host_response_time'].fillna('')\n",
    "    data['Host_response_time'] = le.fit_transform(data['Host_response_time'])\n",
    "    \n",
    "    ## Host is superhost\n",
    "    ### Fill NA with false\n",
    "    ### Label encode them \n",
    "    data.Host_is_superhost = data.Host_is_superhost.fillna('f')\n",
    "    data.Host_is_superhost = le.fit_transform(data.Host_is_superhost)\n",
    "\n",
    "    ## Host has profile pic\n",
    "    data.Host_has_profile_pic = data.Host_has_profile_pic.fillna('f')\n",
    "    data.Host_has_profile_pic = le.fit_transform(data.Host_has_profile_pic)\n",
    "\n",
    "    ## Host has identity verified\n",
    "    data.Host_identity_verified = data.Host_identity_verified.fillna('f')\n",
    "    data.Host_identity_verified = le.fit_transform(data.Host_identity_verified)\n",
    "    \n",
    "    ## Neighbourhood\n",
    "    one_hot_neighbourhood = pd.get_dummies(data.Neighbourhood, prefix = \"zip\", drop_first=True,dtype='int64')\n",
    "    data = data.drop('Neighbourhood', axis = 1)\n",
    "    data = data.join(one_hot_neighbourhood)\n",
    "    \n",
    "    ## Property type\n",
    "#     data.Property_type = data.Property_type.str.replace(\" \\(condo\\)\",\"\")\n",
    "#     data.Property_type = data.Property_type.str.replace(\" \\(Cuba\\)\",\"\")\n",
    "#     one_hot_prop_type = pd.get_dummies(data.Property_type, prefix = \"prop\", drop_first=True,dtype='int64')\n",
    "#     data = data.drop('Property_type', axis = 1)\n",
    "#     data = data.join(one_hot_prop_type)\n",
    "    \n",
    "    ## Room type\n",
    "    one_hot_room_type = pd.get_dummies(data.Room_type, prefix = \"room\", drop_first=True,dtype='int64')\n",
    "    data = data.drop('Room_type', axis = 1)\n",
    "    data = data.join(one_hot_room_type)\n",
    "    \n",
    "    ## Bathrooms text\n",
    "    data[\"Shared_bath\"] = 0\n",
    "    mask = data.Bathrooms_text.str.contains(\"shared\")\n",
    "    data.loc[mask, \"Shared_bath\"] = 1\n",
    "    \n",
    "    data[\"Num_baths\"] = data.Bathrooms_text.str.extract('(\\d*\\.\\d+|\\d+)',expand = False).astype('float')\n",
    "    \n",
    "    mask = data.Bathrooms_text.str.contains(\"alf-bath\")\n",
    "    data.loc[mask, 'Num_baths'] = 0.5\n",
    "    \n",
    "    data = data.drop('Bathrooms_text', axis = 1)\n",
    "    \n",
    "    ## Bedrooms\n",
    "#     mean_bedrooms = data.Bedrooms.mean()\n",
    "    data.Bedrooms.fillna(0, inplace=True)\n",
    "    \n",
    "    ## Beds\n",
    "    data.Beds.fillna(0, inplace = True)\n",
    "    \n",
    "    ## Price\n",
    "    data.Price = data.Price.replace('[\\$,]', '', regex=True).astype(float)\n",
    "    \n",
    "    ## Review scores rating - drop where missing\n",
    "#     mean_review = data.Review_scores_rating.mean()\n",
    "#     data.Review_scores_rating.fillna(mean_review, inplace=True)\n",
    "#     data = data[data.Review_scores_rating.notna()]\n",
    "    \n",
    "    ## Instant bookable\n",
    "    data.Instant_bookable = le.fit_transform(data.Instant_bookable)\n",
    "    \n",
    "    ## Month\n",
    "    one_hot_month_type = pd.get_dummies(data.Month, prefix = \"month\", drop_first=True, dtype='int64')\n",
    "    data = data.drop('Month', axis = 1)\n",
    "    data = data.join(one_hot_month_type)\n",
    "    \n",
    "    ## Drop id\n",
    "    data = data.drop([\"id\",\"Property_type\",\"Review_scores_rating\"], axis = 1)\n",
    "\n",
    "    return data"
   ]
  },
  {
   "cell_type": "code",
   "execution_count": 3,
   "metadata": {
    "execution": {
     "iopub.execute_input": "2021-12-11T00:11:34.638199Z",
     "iopub.status.busy": "2021-12-11T00:11:34.637343Z",
     "iopub.status.idle": "2021-12-11T00:11:34.731927Z",
     "shell.execute_reply": "2021-12-11T00:11:34.731232Z",
     "shell.execute_reply.started": "2021-12-11T00:11:34.638151Z"
    }
   },
   "outputs": [],
   "source": [
    "train_data = pd.read_csv(\"train.csv\")\n",
    "test_data = pd.read_csv(\"test.csv\")\n",
    "sample_submission = pd.read_csv(\"sample_submission.csv\")"
   ]
  },
  {
   "cell_type": "code",
   "execution_count": 4,
   "metadata": {
    "execution": {
     "iopub.execute_input": "2021-12-11T00:11:34.733938Z",
     "iopub.status.busy": "2021-12-11T00:11:34.733547Z",
     "iopub.status.idle": "2021-12-11T00:11:34.772131Z",
     "shell.execute_reply": "2021-12-11T00:11:34.771109Z",
     "shell.execute_reply.started": "2021-12-11T00:11:34.733906Z"
    }
   },
   "outputs": [
    {
     "data": {
      "text/html": [
       "<div>\n",
       "<style scoped>\n",
       "    .dataframe tbody tr th:only-of-type {\n",
       "        vertical-align: middle;\n",
       "    }\n",
       "\n",
       "    .dataframe tbody tr th {\n",
       "        vertical-align: top;\n",
       "    }\n",
       "\n",
       "    .dataframe thead th {\n",
       "        text-align: right;\n",
       "    }\n",
       "</style>\n",
       "<table border=\"1\" class=\"dataframe\">\n",
       "  <thead>\n",
       "    <tr style=\"text-align: right;\">\n",
       "      <th></th>\n",
       "      <th>id</th>\n",
       "      <th>Decision</th>\n",
       "      <th>Host_response_time</th>\n",
       "      <th>Host_is_superhost</th>\n",
       "      <th>Host_has_profile_pic</th>\n",
       "      <th>Host_identity_verified</th>\n",
       "      <th>Neighbourhood</th>\n",
       "      <th>Property_type</th>\n",
       "      <th>Room_type</th>\n",
       "      <th>Accommodates</th>\n",
       "      <th>...</th>\n",
       "      <th>Beds</th>\n",
       "      <th>Essentials</th>\n",
       "      <th>Cooking</th>\n",
       "      <th>Balcony</th>\n",
       "      <th>Parking</th>\n",
       "      <th>Price</th>\n",
       "      <th>Number_of_reviews</th>\n",
       "      <th>Review_scores_rating</th>\n",
       "      <th>Instant_bookable</th>\n",
       "      <th>Month</th>\n",
       "    </tr>\n",
       "  </thead>\n",
       "  <tbody>\n",
       "    <tr>\n",
       "      <th>0</th>\n",
       "      <td>1</td>\n",
       "      <td>1</td>\n",
       "      <td>within an hour</td>\n",
       "      <td>t</td>\n",
       "      <td>t</td>\n",
       "      <td>t</td>\n",
       "      <td>28806</td>\n",
       "      <td>Entire cabin</td>\n",
       "      <td>Entire home/apt</td>\n",
       "      <td>6</td>\n",
       "      <td>...</td>\n",
       "      <td>3.0</td>\n",
       "      <td>5</td>\n",
       "      <td>5</td>\n",
       "      <td>1</td>\n",
       "      <td>1</td>\n",
       "      <td>$164.00</td>\n",
       "      <td>90</td>\n",
       "      <td>4.93</td>\n",
       "      <td>t</td>\n",
       "      <td>August</td>\n",
       "    </tr>\n",
       "    <tr>\n",
       "      <th>1</th>\n",
       "      <td>2</td>\n",
       "      <td>1</td>\n",
       "      <td>within an hour</td>\n",
       "      <td>t</td>\n",
       "      <td>t</td>\n",
       "      <td>t</td>\n",
       "      <td>28804</td>\n",
       "      <td>Entire house</td>\n",
       "      <td>Entire home/apt</td>\n",
       "      <td>4</td>\n",
       "      <td>...</td>\n",
       "      <td>1.0</td>\n",
       "      <td>5</td>\n",
       "      <td>4</td>\n",
       "      <td>1</td>\n",
       "      <td>1</td>\n",
       "      <td>$101.00</td>\n",
       "      <td>522</td>\n",
       "      <td>4.69</td>\n",
       "      <td>t</td>\n",
       "      <td>June</td>\n",
       "    </tr>\n",
       "    <tr>\n",
       "      <th>2</th>\n",
       "      <td>3</td>\n",
       "      <td>0</td>\n",
       "      <td>within a few hours</td>\n",
       "      <td>t</td>\n",
       "      <td>t</td>\n",
       "      <td>t</td>\n",
       "      <td>28806</td>\n",
       "      <td>Private room in bungalow</td>\n",
       "      <td>Private room</td>\n",
       "      <td>1</td>\n",
       "      <td>...</td>\n",
       "      <td>1.0</td>\n",
       "      <td>5</td>\n",
       "      <td>3</td>\n",
       "      <td>1</td>\n",
       "      <td>1</td>\n",
       "      <td>$32.00</td>\n",
       "      <td>35</td>\n",
       "      <td>4.83</td>\n",
       "      <td>f</td>\n",
       "      <td>June</td>\n",
       "    </tr>\n",
       "    <tr>\n",
       "      <th>3</th>\n",
       "      <td>4</td>\n",
       "      <td>1</td>\n",
       "      <td>within an hour</td>\n",
       "      <td>t</td>\n",
       "      <td>t</td>\n",
       "      <td>t</td>\n",
       "      <td>28803</td>\n",
       "      <td>Entire condominium (condo)</td>\n",
       "      <td>Entire home/apt</td>\n",
       "      <td>8</td>\n",
       "      <td>...</td>\n",
       "      <td>5.0</td>\n",
       "      <td>5</td>\n",
       "      <td>5</td>\n",
       "      <td>0</td>\n",
       "      <td>1</td>\n",
       "      <td>$381.00</td>\n",
       "      <td>11</td>\n",
       "      <td>5.00</td>\n",
       "      <td>t</td>\n",
       "      <td>September</td>\n",
       "    </tr>\n",
       "    <tr>\n",
       "      <th>4</th>\n",
       "      <td>5</td>\n",
       "      <td>0</td>\n",
       "      <td>within an hour</td>\n",
       "      <td>t</td>\n",
       "      <td>t</td>\n",
       "      <td>t</td>\n",
       "      <td>28805</td>\n",
       "      <td>Entire house</td>\n",
       "      <td>Entire home/apt</td>\n",
       "      <td>6</td>\n",
       "      <td>...</td>\n",
       "      <td>4.0</td>\n",
       "      <td>5</td>\n",
       "      <td>5</td>\n",
       "      <td>1</td>\n",
       "      <td>1</td>\n",
       "      <td>$238.00</td>\n",
       "      <td>63</td>\n",
       "      <td>4.70</td>\n",
       "      <td>f</td>\n",
       "      <td>July</td>\n",
       "    </tr>\n",
       "  </tbody>\n",
       "</table>\n",
       "<p>5 rows × 22 columns</p>\n",
       "</div>"
      ],
      "text/plain": [
       "   id  Decision  Host_response_time Host_is_superhost Host_has_profile_pic  \\\n",
       "0   1         1      within an hour                 t                    t   \n",
       "1   2         1      within an hour                 t                    t   \n",
       "2   3         0  within a few hours                 t                    t   \n",
       "3   4         1      within an hour                 t                    t   \n",
       "4   5         0      within an hour                 t                    t   \n",
       "\n",
       "  Host_identity_verified  Neighbourhood               Property_type  \\\n",
       "0                      t          28806                Entire cabin   \n",
       "1                      t          28804                Entire house   \n",
       "2                      t          28806    Private room in bungalow   \n",
       "3                      t          28803  Entire condominium (condo)   \n",
       "4                      t          28805                Entire house   \n",
       "\n",
       "         Room_type  Accommodates  ... Beds  Essentials  Cooking  Balcony  \\\n",
       "0  Entire home/apt             6  ...  3.0           5        5        1   \n",
       "1  Entire home/apt             4  ...  1.0           5        4        1   \n",
       "2     Private room             1  ...  1.0           5        3        1   \n",
       "3  Entire home/apt             8  ...  5.0           5        5        0   \n",
       "4  Entire home/apt             6  ...  4.0           5        5        1   \n",
       "\n",
       "   Parking     Price  Number_of_reviews Review_scores_rating  \\\n",
       "0        1  $164.00                  90                 4.93   \n",
       "1        1  $101.00                 522                 4.69   \n",
       "2        1   $32.00                  35                 4.83   \n",
       "3        1  $381.00                  11                 5.00   \n",
       "4        1  $238.00                  63                 4.70   \n",
       "\n",
       "   Instant_bookable      Month  \n",
       "0                 t     August  \n",
       "1                 t       June  \n",
       "2                 f       June  \n",
       "3                 t  September  \n",
       "4                 f       July  \n",
       "\n",
       "[5 rows x 22 columns]"
      ]
     },
     "execution_count": 4,
     "metadata": {},
     "output_type": "execute_result"
    }
   ],
   "source": [
    "train_data.head()"
   ]
  },
  {
   "cell_type": "code",
   "execution_count": 5,
   "metadata": {
    "execution": {
     "iopub.execute_input": "2021-12-11T00:11:34.773950Z",
     "iopub.status.busy": "2021-12-11T00:11:34.773649Z",
     "iopub.status.idle": "2021-12-11T00:11:34.800532Z",
     "shell.execute_reply": "2021-12-11T00:11:34.799588Z",
     "shell.execute_reply.started": "2021-12-11T00:11:34.773919Z"
    }
   },
   "outputs": [
    {
     "data": {
      "text/html": [
       "<div>\n",
       "<style scoped>\n",
       "    .dataframe tbody tr th:only-of-type {\n",
       "        vertical-align: middle;\n",
       "    }\n",
       "\n",
       "    .dataframe tbody tr th {\n",
       "        vertical-align: top;\n",
       "    }\n",
       "\n",
       "    .dataframe thead th {\n",
       "        text-align: right;\n",
       "    }\n",
       "</style>\n",
       "<table border=\"1\" class=\"dataframe\">\n",
       "  <thead>\n",
       "    <tr style=\"text-align: right;\">\n",
       "      <th></th>\n",
       "      <th>id</th>\n",
       "      <th>Host_response_time</th>\n",
       "      <th>Host_is_superhost</th>\n",
       "      <th>Host_has_profile_pic</th>\n",
       "      <th>Host_identity_verified</th>\n",
       "      <th>Neighbourhood</th>\n",
       "      <th>Property_type</th>\n",
       "      <th>Room_type</th>\n",
       "      <th>Accommodates</th>\n",
       "      <th>Bathrooms_text</th>\n",
       "      <th>...</th>\n",
       "      <th>Beds</th>\n",
       "      <th>Essentials</th>\n",
       "      <th>Cooking</th>\n",
       "      <th>Balcony</th>\n",
       "      <th>Parking</th>\n",
       "      <th>Price</th>\n",
       "      <th>Number_of_reviews</th>\n",
       "      <th>Review_scores_rating</th>\n",
       "      <th>Instant_bookable</th>\n",
       "      <th>Month</th>\n",
       "    </tr>\n",
       "  </thead>\n",
       "  <tbody>\n",
       "    <tr>\n",
       "      <th>0</th>\n",
       "      <td>1</td>\n",
       "      <td>NaN</td>\n",
       "      <td>t</td>\n",
       "      <td>t</td>\n",
       "      <td>t</td>\n",
       "      <td>28806</td>\n",
       "      <td>Private room in bungalow</td>\n",
       "      <td>Private room</td>\n",
       "      <td>1</td>\n",
       "      <td>1 private bath</td>\n",
       "      <td>...</td>\n",
       "      <td>1.0</td>\n",
       "      <td>4</td>\n",
       "      <td>3</td>\n",
       "      <td>1</td>\n",
       "      <td>1</td>\n",
       "      <td>$58.00</td>\n",
       "      <td>137</td>\n",
       "      <td>4.85</td>\n",
       "      <td>f</td>\n",
       "      <td>September</td>\n",
       "    </tr>\n",
       "    <tr>\n",
       "      <th>1</th>\n",
       "      <td>2</td>\n",
       "      <td>within an hour</td>\n",
       "      <td>t</td>\n",
       "      <td>t</td>\n",
       "      <td>t</td>\n",
       "      <td>28805</td>\n",
       "      <td>Entire apartment</td>\n",
       "      <td>Entire home/apt</td>\n",
       "      <td>2</td>\n",
       "      <td>1 bath</td>\n",
       "      <td>...</td>\n",
       "      <td>1.0</td>\n",
       "      <td>5</td>\n",
       "      <td>5</td>\n",
       "      <td>1</td>\n",
       "      <td>1</td>\n",
       "      <td>$76.00</td>\n",
       "      <td>573</td>\n",
       "      <td>4.93</td>\n",
       "      <td>t</td>\n",
       "      <td>June</td>\n",
       "    </tr>\n",
       "    <tr>\n",
       "      <th>2</th>\n",
       "      <td>3</td>\n",
       "      <td>within an hour</td>\n",
       "      <td>t</td>\n",
       "      <td>t</td>\n",
       "      <td>t</td>\n",
       "      <td>28805</td>\n",
       "      <td>Entire rental unit</td>\n",
       "      <td>Entire home/apt</td>\n",
       "      <td>2</td>\n",
       "      <td>1 bath</td>\n",
       "      <td>...</td>\n",
       "      <td>1.0</td>\n",
       "      <td>5</td>\n",
       "      <td>5</td>\n",
       "      <td>1</td>\n",
       "      <td>1</td>\n",
       "      <td>$76.00</td>\n",
       "      <td>590</td>\n",
       "      <td>4.93</td>\n",
       "      <td>t</td>\n",
       "      <td>August</td>\n",
       "    </tr>\n",
       "    <tr>\n",
       "      <th>3</th>\n",
       "      <td>4</td>\n",
       "      <td>within an hour</td>\n",
       "      <td>t</td>\n",
       "      <td>t</td>\n",
       "      <td>t</td>\n",
       "      <td>28805</td>\n",
       "      <td>Entire rental unit</td>\n",
       "      <td>Entire home/apt</td>\n",
       "      <td>2</td>\n",
       "      <td>1 bath</td>\n",
       "      <td>...</td>\n",
       "      <td>1.0</td>\n",
       "      <td>5</td>\n",
       "      <td>5</td>\n",
       "      <td>1</td>\n",
       "      <td>1</td>\n",
       "      <td>$76.00</td>\n",
       "      <td>600</td>\n",
       "      <td>4.93</td>\n",
       "      <td>t</td>\n",
       "      <td>September</td>\n",
       "    </tr>\n",
       "    <tr>\n",
       "      <th>4</th>\n",
       "      <td>5</td>\n",
       "      <td>within an hour</td>\n",
       "      <td>t</td>\n",
       "      <td>t</td>\n",
       "      <td>t</td>\n",
       "      <td>28805</td>\n",
       "      <td>Entire apartment</td>\n",
       "      <td>Entire home/apt</td>\n",
       "      <td>2</td>\n",
       "      <td>1 bath</td>\n",
       "      <td>...</td>\n",
       "      <td>1.0</td>\n",
       "      <td>5</td>\n",
       "      <td>5</td>\n",
       "      <td>1</td>\n",
       "      <td>1</td>\n",
       "      <td>$76.00</td>\n",
       "      <td>581</td>\n",
       "      <td>4.93</td>\n",
       "      <td>t</td>\n",
       "      <td>July</td>\n",
       "    </tr>\n",
       "  </tbody>\n",
       "</table>\n",
       "<p>5 rows × 21 columns</p>\n",
       "</div>"
      ],
      "text/plain": [
       "   id Host_response_time Host_is_superhost Host_has_profile_pic  \\\n",
       "0   1                NaN                 t                    t   \n",
       "1   2     within an hour                 t                    t   \n",
       "2   3     within an hour                 t                    t   \n",
       "3   4     within an hour                 t                    t   \n",
       "4   5     within an hour                 t                    t   \n",
       "\n",
       "  Host_identity_verified  Neighbourhood             Property_type  \\\n",
       "0                      t          28806  Private room in bungalow   \n",
       "1                      t          28805          Entire apartment   \n",
       "2                      t          28805        Entire rental unit   \n",
       "3                      t          28805        Entire rental unit   \n",
       "4                      t          28805          Entire apartment   \n",
       "\n",
       "         Room_type  Accommodates  Bathrooms_text  ...  Beds  Essentials  \\\n",
       "0     Private room             1  1 private bath  ...   1.0           4   \n",
       "1  Entire home/apt             2          1 bath  ...   1.0           5   \n",
       "2  Entire home/apt             2          1 bath  ...   1.0           5   \n",
       "3  Entire home/apt             2          1 bath  ...   1.0           5   \n",
       "4  Entire home/apt             2          1 bath  ...   1.0           5   \n",
       "\n",
       "   Cooking  Balcony  Parking    Price Number_of_reviews  Review_scores_rating  \\\n",
       "0        3        1        1  $58.00                137                  4.85   \n",
       "1        5        1        1  $76.00                573                  4.93   \n",
       "2        5        1        1  $76.00                590                  4.93   \n",
       "3        5        1        1  $76.00                600                  4.93   \n",
       "4        5        1        1  $76.00                581                  4.93   \n",
       "\n",
       "   Instant_bookable      Month  \n",
       "0                 f  September  \n",
       "1                 t       June  \n",
       "2                 t     August  \n",
       "3                 t  September  \n",
       "4                 t       July  \n",
       "\n",
       "[5 rows x 21 columns]"
      ]
     },
     "execution_count": 5,
     "metadata": {},
     "output_type": "execute_result"
    }
   ],
   "source": [
    "test_data.head()"
   ]
  },
  {
   "cell_type": "code",
   "execution_count": 6,
   "metadata": {
    "execution": {
     "iopub.execute_input": "2021-12-11T00:11:35.164707Z",
     "iopub.status.busy": "2021-12-11T00:11:35.164072Z",
     "iopub.status.idle": "2021-12-11T00:11:35.173009Z",
     "shell.execute_reply": "2021-12-11T00:11:35.172175Z",
     "shell.execute_reply.started": "2021-12-11T00:11:35.164663Z"
    }
   },
   "outputs": [
    {
     "data": {
      "text/html": [
       "<div>\n",
       "<style scoped>\n",
       "    .dataframe tbody tr th:only-of-type {\n",
       "        vertical-align: middle;\n",
       "    }\n",
       "\n",
       "    .dataframe tbody tr th {\n",
       "        vertical-align: top;\n",
       "    }\n",
       "\n",
       "    .dataframe thead th {\n",
       "        text-align: right;\n",
       "    }\n",
       "</style>\n",
       "<table border=\"1\" class=\"dataframe\">\n",
       "  <thead>\n",
       "    <tr style=\"text-align: right;\">\n",
       "      <th></th>\n",
       "      <th>id</th>\n",
       "      <th>Decision</th>\n",
       "    </tr>\n",
       "  </thead>\n",
       "  <tbody>\n",
       "    <tr>\n",
       "      <th>0</th>\n",
       "      <td>1</td>\n",
       "      <td>0</td>\n",
       "    </tr>\n",
       "    <tr>\n",
       "      <th>1</th>\n",
       "      <td>2</td>\n",
       "      <td>0</td>\n",
       "    </tr>\n",
       "    <tr>\n",
       "      <th>2</th>\n",
       "      <td>3</td>\n",
       "      <td>0</td>\n",
       "    </tr>\n",
       "    <tr>\n",
       "      <th>3</th>\n",
       "      <td>4</td>\n",
       "      <td>0</td>\n",
       "    </tr>\n",
       "    <tr>\n",
       "      <th>4</th>\n",
       "      <td>5</td>\n",
       "      <td>0</td>\n",
       "    </tr>\n",
       "  </tbody>\n",
       "</table>\n",
       "</div>"
      ],
      "text/plain": [
       "   id  Decision\n",
       "0   1         0\n",
       "1   2         0\n",
       "2   3         0\n",
       "3   4         0\n",
       "4   5         0"
      ]
     },
     "execution_count": 6,
     "metadata": {},
     "output_type": "execute_result"
    }
   ],
   "source": [
    "sample_submission.head()"
   ]
  },
  {
   "cell_type": "markdown",
   "metadata": {},
   "source": [
    "Preprocessing train data and splitting into train and val sets. The val set here is called the test set because of ease of notation."
   ]
  },
  {
   "cell_type": "code",
   "execution_count": 7,
   "metadata": {
    "execution": {
     "iopub.execute_input": "2021-12-11T00:11:36.455069Z",
     "iopub.status.busy": "2021-12-11T00:11:36.454212Z",
     "iopub.status.idle": "2021-12-11T00:11:36.569271Z",
     "shell.execute_reply": "2021-12-11T00:11:36.568278Z",
     "shell.execute_reply.started": "2021-12-11T00:11:36.455012Z"
    }
   },
   "outputs": [],
   "source": [
    "processed_train = preprocessing(train_data)\n",
    "# processed_train = processed_train[processed_train.Review_scores_rating.notna()]\n",
    "X = processed_train.drop('Decision', axis = 1)\n",
    "y = processed_train.Decision"
   ]
  },
  {
   "cell_type": "code",
   "execution_count": 8,
   "metadata": {
    "execution": {
     "iopub.execute_input": "2021-12-11T00:11:37.057090Z",
     "iopub.status.busy": "2021-12-11T00:11:37.056816Z",
     "iopub.status.idle": "2021-12-11T00:11:37.068944Z",
     "shell.execute_reply": "2021-12-11T00:11:37.068002Z",
     "shell.execute_reply.started": "2021-12-11T00:11:37.057060Z"
    }
   },
   "outputs": [
    {
     "name": "stdout",
     "output_type": "stream",
     "text": [
      "7471 5976\n"
     ]
    }
   ],
   "source": [
    "X_train, X_test, y_train, y_test = train_test_split(X,y, test_size = 0.2, random_state = 1)\n",
    "print(len(X), len(X_train))"
   ]
  },
  {
   "cell_type": "code",
   "execution_count": 9,
   "metadata": {
    "execution": {
     "iopub.execute_input": "2021-12-11T00:11:37.696742Z",
     "iopub.status.busy": "2021-12-11T00:11:37.696231Z",
     "iopub.status.idle": "2021-12-11T00:11:37.705111Z",
     "shell.execute_reply": "2021-12-11T00:11:37.704218Z",
     "shell.execute_reply.started": "2021-12-11T00:11:37.696703Z"
    }
   },
   "outputs": [
    {
     "name": "stdout",
     "output_type": "stream",
     "text": [
      "No Samples:\t5976\n",
      "No Features:\t29\n",
      "Negative decision:\t2188\n",
      "Positive decision:\t3788\n"
     ]
    }
   ],
   "source": [
    "print(\"No Samples:\\t%d\" % X_train.shape[0])\n",
    "print(\"No Features:\\t%d\" % X_train.shape[1])\n",
    "print(\"Negative decision:\\t%d\" % (y_train==0).sum())\n",
    "print(\"Positive decision:\\t%d\" % (y_train==1).sum())"
   ]
  },
  {
   "cell_type": "markdown",
   "metadata": {},
   "source": [
    "# Logistic Regression"
   ]
  },
  {
   "cell_type": "code",
   "execution_count": 43,
   "metadata": {
    "execution": {
     "iopub.execute_input": "2021-12-11T00:22:13.071111Z",
     "iopub.status.busy": "2021-12-11T00:22:13.070051Z",
     "iopub.status.idle": "2021-12-11T00:22:15.287236Z",
     "shell.execute_reply": "2021-12-11T00:22:15.285712Z",
     "shell.execute_reply.started": "2021-12-11T00:22:13.071062Z"
    }
   },
   "outputs": [
    {
     "name": "stdout",
     "output_type": "stream",
     "text": [
      "0.2936454849498328\n"
     ]
    },
    {
     "data": {
      "image/png": "[encoded data removed]",
      "text/plain": [
       "<Figure size 432x288 with 1 Axes>"
      ]
     },
     "metadata": {
      "needs_background": "light"
     },
     "output_type": "display_data"
    }
   ],
   "source": [
    "logistic_cv = LogisticRegressionCV(cv = 10, solver='liblinear',random_state=1, verbose=0, n_jobs=-1)\n",
    "logistic_cv.fit(X_train, y_train)\n",
    "print(1-logistic_cv.score(X_test, y_test))\n",
    "y_pred_lr = logistic_cv.predict(X_test)\n",
    "logistic_cv.get_params()\n",
    "RocCurveDisplay.from_predictions(y_test, y_pred_lr)\n",
    "plt.show()"
   ]
  },
  {
   "cell_type": "markdown",
   "metadata": {},
   "source": [
    "# Random Forest"
   ]
  },
  {
   "cell_type": "code",
   "execution_count": 66,
   "metadata": {
    "execution": {
     "iopub.execute_input": "2021-12-11T00:21:51.132792Z",
     "iopub.status.busy": "2021-12-11T00:21:51.132458Z",
     "iopub.status.idle": "2021-12-11T00:21:51.155744Z",
     "shell.execute_reply": "2021-12-11T00:21:51.154365Z",
     "shell.execute_reply.started": "2021-12-11T00:21:51.132760Z"
    }
   },
   "outputs": [
    {
     "name": "stdout",
     "output_type": "stream",
     "text": [
      "Fitting 10 folds for each of 8 candidates, totalling 80 fits\n",
      "{'max_features': None, 'n_estimators': 400}\n",
      "Random Forest\n",
      "Val Accuracy:\t0.19\n"
     ]
    }
   ],
   "source": [
    "params = {\"n_estimators\": np.arange(100,500,100),\n",
    "         \"max_features\":np.array((None,\"sqrt\"))}\n",
    "accuracy_values = []\n",
    "rf = RandomForestClassifier(class_weight = \"balanced_subsample\", n_jobs = -1,random_state = 1)\n",
    "gridsearch_rf = GridSearchCV(rf,params,cv=10, scoring=\"accuracy\", n_jobs = -1, verbose = 1)\n",
    "gridsearch_rf.fit(X_train,y_train)\n",
    "y_pred = gridsearch_rf.predict(X_test)\n",
    "accuracy_values.append(metrics.accuracy_score(y_test, y_pred))\n",
    "print(gridsearch_rf.best_params_)\n",
    "print(\"Random Forest\") \n",
    "print(\"Val Accuracy:\\t%.2f\" % (1-np.mean(accuracy_values)))\n"
   ]
  },
  {
   "cell_type": "code",
   "execution_count": 65,
   "metadata": {},
   "outputs": [
    {
     "data": {
      "image/png": "[encoded data removed]",
      "text/plain": [
       "<Figure size 432x432 with 2 Axes>"
      ]
     },
     "metadata": {
      "needs_background": "light"
     },
     "output_type": "display_data"
    }
   ],
   "source": [
    "class MidpointNormalize(Normalize):\n",
    "    def __init__(self, vmin=None, vmax=None, midpoint=None, clip=False):\n",
    "        self.midpoint = midpoint\n",
    "        Normalize.__init__(self, vmin, vmax, clip)\n",
    "\n",
    "    def __call__(self, value, clip=None):\n",
    "        x, y = [self.vmin, self.midpoint, self.vmax], [0, 0.5, 1]\n",
    "        return np.ma.masked_array(np.interp(value, x, y))\n",
    "\n",
    "n_est = np.arange(100,500,100)\n",
    "max_fea = np.array((None,\"sqrt\"))\n",
    "scores = gridsearch_rf.cv_results_[\"mean_test_score\"].reshape(len(n_est), len(max_fea))\n",
    "plt.figure(figsize=(6, 6))\n",
    "plt.subplots_adjust(left=0.2, right=0.95, bottom=0.15, top=0.95)\n",
    "plt.imshow(\n",
    "    scores,\n",
    "    interpolation=\"nearest\",\n",
    "    cmap = cm.jet,\n",
    "    norm=MidpointNormalize(vmin=0.2, midpoint=0.92),\n",
    ")\n",
    "plt.xlabel(\"Max_features\")\n",
    "plt.ylabel(\"n_estimators\")\n",
    "plt.colorbar()\n",
    "plt.xticks(np.arange(len(max_fea)), max_fea, rotation=45)\n",
    "plt.yticks(np.arange(len(n_est)), n_est)\n",
    "plt.title(\"Validation accuracy\")\n",
    "plt.show()"
   ]
  },
  {
   "cell_type": "code",
   "execution_count": 15,
   "metadata": {},
   "outputs": [
    {
     "data": {
      "image/png": "[encoded data removed]",
      "text/plain": [
       "<Figure size 432x288 with 1 Axes>"
      ]
     },
     "metadata": {
      "needs_background": "light"
     },
     "output_type": "display_data"
    }
   ],
   "source": [
    "rf_best = RandomForestClassifier(n_estimators=400, max_features= None,class_weight = \"balanced_subsample\", n_jobs = -1,random_state = 1)\n",
    "rf_best.fit(X_train,y_train)\n",
    "y_pred_test_rf = rf_best.predict(X_test)\n",
    "RocCurveDisplay.from_predictions(y_test, y_pred_test_rf)\n",
    "plt.show()"
   ]
  },
  {
   "cell_type": "markdown",
   "metadata": {},
   "source": [
    "# SVM"
   ]
  },
  {
   "cell_type": "code",
   "execution_count": 16,
   "metadata": {
    "execution": {
     "iopub.execute_input": "2021-12-10T22:57:58.519574Z",
     "iopub.status.busy": "2021-12-10T22:57:58.519019Z",
     "iopub.status.idle": "2021-12-10T23:00:24.641176Z",
     "shell.execute_reply": "2021-12-10T23:00:24.640096Z",
     "shell.execute_reply.started": "2021-12-10T22:57:58.519537Z"
    }
   },
   "outputs": [
    {
     "name": "stdout",
     "output_type": "stream",
     "text": [
      "Fitting 10 folds for each of 25 candidates, totalling 250 fits\n",
      "{'svc__C': 100.0, 'svc__gamma': 0.01}\n",
      "SVM\n",
      "Test Accuracy:\t0.76 (+-0.00)\n"
     ]
    }
   ],
   "source": [
    "params = {\"svc__C\": np.logspace(-4,4,5),\n",
    "          \"svc__gamma\": np.logspace(-4,4,5)}\n",
    "accuracy_values = []\n",
    "svc = make_pipeline(StandardScaler(), SVC(kernel = 'rbf'))\n",
    "gridsearch = GridSearchCV(svc,params,cv=10, scoring=\"accuracy\", n_jobs = -1, verbose = 1)\n",
    "gridsearch.fit(X_train,y_train)\n",
    "y_pred = gridsearch.predict(X_test)\n",
    "accuracy_values.append(metrics.accuracy_score(y_test, y_pred))\n",
    "print(gridsearch.best_params_)\n",
    "print(\"SVM\") \n",
    "print(\"Test Accuracy:\\t%.2f (+-%.2f)\" % 1-(np.mean(accuracy_values),np.std(accuracy_values)))\n"
   ]
  },
  {
   "cell_type": "code",
   "execution_count": 17,
   "metadata": {
    "execution": {
     "iopub.execute_input": "2021-12-10T02:52:04.019598Z",
     "iopub.status.busy": "2021-12-10T02:52:04.018880Z",
     "iopub.status.idle": "2021-12-10T02:52:04.040979Z",
     "shell.execute_reply": "2021-12-10T02:52:04.039258Z",
     "shell.execute_reply.started": "2021-12-10T02:52:04.019563Z"
    }
   },
   "outputs": [
    {
     "data": {
      "text/plain": [
       "{'svc__C': 100.0, 'svc__gamma': 0.01}"
      ]
     },
     "execution_count": 17,
     "metadata": {},
     "output_type": "execute_result"
    }
   ],
   "source": [
    "gridsearch.best_params_"
   ]
  },
  {
   "cell_type": "code",
   "execution_count": 18,
   "metadata": {
    "execution": {
     "iopub.status.busy": "2021-12-10T02:51:57.458922Z",
     "iopub.status.idle": "2021-12-10T02:51:57.459243Z",
     "shell.execute_reply": "2021-12-10T02:51:57.459096Z",
     "shell.execute_reply.started": "2021-12-10T02:51:57.459078Z"
    }
   },
   "outputs": [
    {
     "data": {
      "image/png": "[encoded data removed]",
      "text/plain": [
       "<Figure size 432x288 with 1 Axes>"
      ]
     },
     "metadata": {
      "needs_background": "light"
     },
     "output_type": "display_data"
    }
   ],
   "source": [
    "svm_best = make_pipeline(StandardScaler(), SVC(C = gridsearch.best_params_['svc__C'], gamma=gridsearch.best_params_['svc__gamma']))\n",
    "svm_best.fit(X_train, y_train)\n",
    "y_pred_test_svm = svm_best.predict(X_test)\n",
    "RocCurveDisplay.from_predictions(y_test, y_pred_test_svm)\n",
    "plt.show()"
   ]
  },
  {
   "cell_type": "code",
   "execution_count": 62,
   "metadata": {},
   "outputs": [
    {
     "data": {
      "image/png": "[encoded data removed]",
      "text/plain": [
       "<Figure size 432x432 with 2 Axes>"
      ]
     },
     "metadata": {
      "needs_background": "light"
     },
     "output_type": "display_data"
    }
   ],
   "source": [
    "class MidpointNormalize(Normalize):\n",
    "    def __init__(self, vmin=None, vmax=None, midpoint=None, clip=False):\n",
    "        self.midpoint = midpoint\n",
    "        Normalize.__init__(self, vmin, vmax, clip)\n",
    "\n",
    "    def __call__(self, value, clip=None):\n",
    "        x, y = [self.vmin, self.midpoint, self.vmax], [0, 0.5, 1]\n",
    "        return np.ma.masked_array(np.interp(value, x, y))\n",
    "\n",
    "C_range = np.logspace(-4,4,5)\n",
    "gamma_range = np.logspace(-4,4,5)\n",
    "scores = gridsearch.cv_results_[\"mean_test_score\"].reshape(len(C_range), len(gamma_range))\n",
    "plt.figure(figsize=(6, 6))\n",
    "plt.subplots_adjust(left=0.2, right=0.95, bottom=0.15, top=0.95)\n",
    "plt.imshow(\n",
    "    scores,\n",
    "    interpolation=\"nearest\",\n",
    "    cmap = cm.jet,\n",
    "    norm=MidpointNormalize(vmin=0.2, midpoint=0.92),\n",
    ")\n",
    "plt.xlabel(\"gamma\")\n",
    "plt.ylabel(\"C\")\n",
    "plt.colorbar()\n",
    "plt.xticks(np.arange(len(gamma_range)), gamma_range, rotation=45)\n",
    "plt.yticks(np.arange(len(C_range)), C_range)\n",
    "plt.title(\"Validation accuracy\")\n",
    "plt.show()"
   ]
  },
  {
   "cell_type": "markdown",
   "metadata": {},
   "source": [
    "# Stacked"
   ]
  },
  {
   "cell_type": "code",
   "execution_count": 19,
   "metadata": {},
   "outputs": [
    {
     "name": "stdout",
     "output_type": "stream",
     "text": [
      "0.2341137123745819\n"
     ]
    }
   ],
   "source": [
    "svm = make_pipeline(StandardScaler(), SVC(C = 100, gamma = 0.01))\n",
    "logistic_cv = LogisticRegressionCV(cv = 10, solver='liblinear',random_state=1, verbose=0, n_jobs=4)\n",
    "random_forest = RandomForestClassifier(min_samples_split = 0.1,class_weight = \"balanced_subsample\", n_jobs = -1,random_state = 1)\n",
    "stack = StackingClassifier(estimators=[('svm',svm),('lrcv',logistic_cv),('rf',random_forest)], n_jobs=-1,verbose=1)\n",
    "stack.fit(X_train, y_train)\n",
    "print(1-stack.score(X_test, y_test))"
   ]
  },
  {
   "cell_type": "code",
   "execution_count": 20,
   "metadata": {},
   "outputs": [
    {
     "data": {
      "image/png": "[encoded data removed]",
      "text/plain": [
       "<Figure size 432x288 with 1 Axes>"
      ]
     },
     "metadata": {
      "needs_background": "light"
     },
     "output_type": "display_data"
    }
   ],
   "source": [
    "y_pred_test_stack = stack.predict(X_test)\n",
    "RocCurveDisplay.from_predictions(y_test, y_pred_test_stack)\n",
    "plt.show()"
   ]
  },
  {
   "cell_type": "code",
   "execution_count": 33,
   "metadata": {},
   "outputs": [
    {
     "data": {
      "text/plain": [
       "<Figure size 600x600 with 0 Axes>"
      ]
     },
     "metadata": {},
     "output_type": "display_data"
    },
    {
     "data": {
      "image/png": "[encoded data removed]",
      "text/plain": [
       "<Figure size 432x288 with 1 Axes>"
      ]
     },
     "metadata": {
      "needs_background": "light"
     },
     "output_type": "display_data"
    }
   ],
   "source": [
    "plt.figure(figsize=(6,6), dpi = 100)\n",
    "fig = RocCurveDisplay.from_predictions(y_test, y_pred_test_stack, name = \"Stack\")\n",
    "fig = RocCurveDisplay.from_predictions(y_test, y_pred_test_svm, name = \"SVM\", ax=fig.ax_)\n",
    "fig = RocCurveDisplay.from_predictions(y_test, y_pred_test_rf, name = \"Random F.\", ax=fig.ax_)\n",
    "fig = RocCurveDisplay.from_predictions(y_test, y_pred_lr, name = \"Logistic R.\", ax=fig.ax_)\n",
    "plt.plot([0,1],[0,1], label = \"45 degree\")\n",
    "plt.legend()\n",
    "plt.title(\"Comparing different classifiers\")\n",
    "plt.show()"
   ]
  },
  {
   "cell_type": "code",
   "execution_count": 48,
   "metadata": {},
   "outputs": [
    {
     "data": {
      "text/plain": [
       "<Figure size 600x600 with 0 Axes>"
      ]
     },
     "metadata": {},
     "output_type": "display_data"
    },
    {
     "data": {
      "image/png": "[encoded data removed]",
      "text/plain": [
       "<Figure size 432x288 with 1 Axes>"
      ]
     },
     "metadata": {
      "needs_background": "light"
     },
     "output_type": "display_data"
    }
   ],
   "source": [
    "plt.figure(figsize=(6,6), dpi = 100)\n",
    "y_pred_train_stack = stack.predict(X_train)\n",
    "fig = RocCurveDisplay.from_predictions(y_train, y_pred_train_stack, name = \"Stack\")\n",
    "y_pred_train_svm = svm_best.predict(X_train)\n",
    "fig = RocCurveDisplay.from_predictions(y_train, y_pred_train_svm, name = \"SVM\", ax=fig.ax_)\n",
    "y_pred_train_rf = rf_best.predict(X_train)\n",
    "fig = RocCurveDisplay.from_predictions(y_train, y_pred_train_rf, name = \"Random F.\", ax=fig.ax_)\n",
    "y_pred_train_lr = logistic_cv.predict(X_train)\n",
    "fig = RocCurveDisplay.from_predictions(y_train, y_pred_train_lr, name = \"Logistic R.\", ax=fig.ax_)\n",
    "plt.plot([0,1],[0,1], label = \"45 degree\")\n",
    "plt.legend()\n",
    "plt.title(\"Comparing different classifiers - Training\")\n",
    "plt.show()"
   ]
  },
  {
   "cell_type": "markdown",
   "metadata": {},
   "source": [
    "# Predict on the unknown data"
   ]
  },
  {
   "cell_type": "code",
   "execution_count": 26,
   "metadata": {
    "execution": {
     "iopub.execute_input": "2021-12-10T23:04:50.045797Z",
     "iopub.status.busy": "2021-12-10T23:04:50.045514Z",
     "iopub.status.idle": "2021-12-10T23:04:50.098191Z",
     "shell.execute_reply": "2021-12-10T23:04:50.097284Z",
     "shell.execute_reply.started": "2021-12-10T23:04:50.045767Z"
    }
   },
   "outputs": [
    {
     "data": {
      "text/plain": [
       "(2440, 29)"
      ]
     },
     "execution_count": 26,
     "metadata": {},
     "output_type": "execute_result"
    }
   ],
   "source": [
    "processed_test = preprocessing(test_data)\n",
    "processed_test.shape"
   ]
  },
  {
   "cell_type": "code",
   "execution_count": 28,
   "metadata": {
    "execution": {
     "iopub.execute_input": "2021-12-10T23:04:54.116657Z",
     "iopub.status.busy": "2021-12-10T23:04:54.116353Z",
     "iopub.status.idle": "2021-12-10T23:04:54.748677Z",
     "shell.execute_reply": "2021-12-10T23:04:54.748010Z",
     "shell.execute_reply.started": "2021-12-10T23:04:54.116623Z"
    }
   },
   "outputs": [
    {
     "name": "stdout",
     "output_type": "stream",
     "text": [
      "done\n"
     ]
    }
   ],
   "source": [
    "# y_pred = logistic_cv.predict(processed_test)\n",
    "# y_pred = rf_best.predict(processed_test)\n",
    "# y_pred = svm.predict(processed_test)\n",
    "# y_pred = bag.predict(processed_test)\n",
    "y_pred = stack.predict(processed_test)\n",
    "submission = pd.DataFrame()\n",
    "submission['id'] = test_data['id']\n",
    "submission['Decision'] = y_pred\n",
    "submission.to_csv(\"submission.csv\", index= False)\n",
    "print(\"done\")"
   ]
  },
  {
   "cell_type": "code",
   "execution_count": 44,
   "metadata": {
    "execution": {
     "iopub.execute_input": "2021-12-10T23:40:54.708489Z",
     "iopub.status.busy": "2021-12-10T23:40:54.708193Z",
     "iopub.status.idle": "2021-12-10T23:41:17.404532Z",
     "shell.execute_reply": "2021-12-10T23:41:17.403422Z",
     "shell.execute_reply.started": "2021-12-10T23:40:54.708458Z"
    }
   },
   "outputs": [
    {
     "name": "stdout",
     "output_type": "stream",
     "text": [
      "0.2341137123745819\n",
      "0.242809364548495\n",
      "0.19397993311036787\n",
      "0.2936454849498328\n"
     ]
    }
   ],
   "source": [
    "print(1-stack.score(X_test, y_test))\n",
    "print(1-svm_best.score(X_test, y_test))\n",
    "print(1-rf_best.score(X_test, y_test))\n",
    "print(1-logistic_cv.score(X_test, y_test))"
   ]
  },
  {
   "cell_type": "markdown",
   "metadata": {},
   "source": [
    "# Print confusion matrices"
   ]
  },
  {
   "cell_type": "code",
   "execution_count": 46,
   "metadata": {},
   "outputs": [
    {
     "name": "stdout",
     "output_type": "stream",
     "text": [
      "Stacked confusion matrix\n"
     ]
    },
    {
     "data": {
      "text/plain": [
       "<sklearn.metrics._plot.confusion_matrix.ConfusionMatrixDisplay at 0x12dd687afc8>"
      ]
     },
     "execution_count": 46,
     "metadata": {},
     "output_type": "execute_result"
    },
    {
     "data": {
      "image/png": "[encoded data removed]",
      "text/plain": [
       "<Figure size 432x288 with 2 Axes>"
      ]
     },
     "metadata": {
      "needs_background": "light"
     },
     "output_type": "display_data"
    }
   ],
   "source": [
    "print(\"Stacked confusion matrix\")\n",
    "ConfusionMatrixDisplay.from_predictions(y_true=y_test,  y_pred=y_pred_test_stack)"
   ]
  },
  {
   "cell_type": "code",
   "execution_count": 47,
   "metadata": {},
   "outputs": [
    {
     "data": {
      "text/plain": [
       "<sklearn.metrics._plot.confusion_matrix.ConfusionMatrixDisplay at 0x12dcb107c08>"
      ]
     },
     "execution_count": 47,
     "metadata": {},
     "output_type": "execute_result"
    },
    {
     "data": {
      "image/png": "[encoded data removed]",
      "text/plain": [
       "<Figure size 432x288 with 2 Axes>"
      ]
     },
     "metadata": {
      "needs_background": "light"
     },
     "output_type": "display_data"
    },
    {
     "data": {
      "image/png": "[encoded data removed]",
      "text/plain": [
       "<Figure size 432x288 with 2 Axes>"
      ]
     },
     "metadata": {
      "needs_background": "light"
     },
     "output_type": "display_data"
    },
    {
     "data": {
      "image/png": "[encoded data removed]",
      "text/plain": [
       "<Figure size 432x288 with 2 Axes>"
      ]
     },
     "metadata": {
      "needs_background": "light"
     },
     "output_type": "display_data"
    }
   ],
   "source": [
    "ConfusionMatrixDisplay.from_predictions(y_true=y_test,  y_pred=y_pred_test_svm)\n",
    "ConfusionMatrixDisplay.from_predictions(y_true=y_test,  y_pred=y_pred_test_rf)\n",
    "ConfusionMatrixDisplay.from_predictions(y_true=y_test,  y_pred=y_pred_lr)"
   ]
  },
  {
   "cell_type": "markdown",
   "metadata": {},
   "source": [
    "## Experimental models not used"
   ]
  },
  {
   "cell_type": "code",
   "execution_count": 22,
   "metadata": {
    "execution": {
     "iopub.execute_input": "2021-12-10T03:05:29.787054Z",
     "iopub.status.busy": "2021-12-10T03:05:29.786514Z",
     "iopub.status.idle": "2021-12-10T03:05:58.236452Z",
     "shell.execute_reply": "2021-12-10T03:05:58.235637Z",
     "shell.execute_reply.started": "2021-12-10T03:05:29.787018Z"
    }
   },
   "outputs": [],
   "source": [
    "# for i in range(10,20):\n",
    "svm = make_pipeline(StandardScaler(), SVC(C = 100, gamma = 0.01))\n",
    "bag = BaggingClassifier(base_estimator=svm, n_estimators=15, n_jobs=-1,verbose=1,random_state=0)\n",
    "bag.fit(X_train, y_train)\n",
    "print(1-bag.score(X_test, y_test))"
   ]
  },
  {
   "cell_type": "code",
   "execution_count": 13,
   "metadata": {
    "execution": {
     "iopub.execute_input": "2021-12-10T18:25:22.493903Z",
     "iopub.status.busy": "2021-12-10T18:25:22.493603Z",
     "iopub.status.idle": "2021-12-10T18:27:29.168879Z",
     "shell.execute_reply": "2021-12-10T18:27:29.167945Z",
     "shell.execute_reply.started": "2021-12-10T18:25:22.493855Z"
    }
   },
   "outputs": [],
   "source": [
    "svm = make_pipeline(StandardScaler(), SVC(C = 100, gamma = 0.01))\n",
    "bag = BaggingClassifier(base_estimator=svm, n_estimators=15, n_jobs=-1,verbose=1,random_state=0)\n",
    "logistic_cv = LogisticRegressionCV(cv = 10, solver='liblinear',random_state=1, verbose=0, n_jobs=4)\n",
    "random_forest = RandomForestClassifier(min_samples_split = 0.1,class_weight = \"balanced_subsample\", n_jobs = -1,random_state = 1)\n",
    "stack = StackingClassifier(estimators=[('bag',bag),('lrcv',logistic_cv),('rf',random_forest)], n_jobs=-1,verbose=1)\n",
    "stack.fit(X_train, y_train)\n",
    "print(1-stack.score(X_test, y_test))"
   ]
  },
  {
   "cell_type": "code",
   "execution_count": null,
   "metadata": {},
   "outputs": [],
   "source": []
  },
  {
   "cell_type": "code",
   "execution_count": null,
   "metadata": {},
   "outputs": [],
   "source": []
  },
  {
   "cell_type": "code",
   "execution_count": null,
   "metadata": {},
   "outputs": [],
   "source": []
  }
 ],
 "metadata": {
  "kernelspec": {
   "display_name": "Python 3 (ipykernel)",
   "language": "python",
   "name": "python3"
  },
  "language_info": {
   "codemirror_mode": {
    "name": "ipython",
    "version": 3
   },
   "file_extension": ".py",
   "mimetype": "text/x-python",
   "name": "python",
   "nbconvert_exporter": "python",
   "pygments_lexer": "ipython3",
   "version": "3.7.11"
  }
 },
 "nbformat": 4,
 "nbformat_minor": 4
}
